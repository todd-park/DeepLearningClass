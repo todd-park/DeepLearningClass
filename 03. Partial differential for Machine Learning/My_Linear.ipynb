{
 "cells": [
  {
   "cell_type": "markdown",
   "metadata": {},
   "source": [
    "# single Variable Linear Regression"
   ]
  },
  {
   "cell_type": "markdown",
   "metadata": {},
   "source": [
    "* 정의 : sample data를 가장 잘 설명할 수 있는 w, b를 찾는 Linear 모델을 구현한다.\n",
    "* f(x) : wx + b, ex) w = 0.2, b = 1\n",
    "* loss_funtion : Mean Squared Error 1/n *sum((f(x) - y) ^ 2)\n",
    "* gradient 함수 : 중앙차분, (f(w + h) - f(w - h)) / 2h => (loss_funtion(w + h) - loss_funtion(w - h)) / (2 * h)\n",
    "* gradient update : w = w - learning_rate * dE/dw\n",
    "* 총 5개의 함수 필요"
   ]
  },
  {
   "cell_type": "code",
   "execution_count": 1,
   "metadata": {},
   "outputs": [],
   "source": [
    "import numpy as np\n",
    "import pandas as pd\n",
    "import matplotlib.pyplot as plt"
   ]
  },
  {
   "cell_type": "code",
   "execution_count": 2,
   "metadata": {},
   "outputs": [],
   "source": [
    "x_data = np.array([1.0, 2.0, 3.0, 4.0, 5.0]).reshape(5,1)\n",
    "y_data = np.array([2.0, 3.0, 4.0, 5.0, 6.0]).reshape(5,1)"
   ]
  },
  {
   "cell_type": "code",
   "execution_count": 3,
   "metadata": {},
   "outputs": [
    {
     "data": {
      "text/plain": [
       "[<matplotlib.lines.Line2D at 0x11eb613c0>]"
      ]
     },
     "execution_count": 3,
     "metadata": {},
     "output_type": "execute_result"
    },
    {
     "data": {
      "image/png": "[encoded data removed]",
      "text/plain": [
       "<Figure size 640x480 with 1 Axes>"
      ]
     },
     "metadata": {},
     "output_type": "display_data"
    }
   ],
   "source": [
    "plt.plot(x_data, y_data)\n"
   ]
  },
  {
   "cell_type": "code",
   "execution_count": 4,
   "metadata": {},
   "outputs": [],
   "source": [
    "weight = np.random.rand(1,1)\n",
    "bias = np.random.rand(1)"
   ]
  },
  {
   "cell_type": "code",
   "execution_count": 5,
   "metadata": {},
   "outputs": [
    {
     "data": {
      "text/plain": [
       "array([[1.],\n",
       "       [2.],\n",
       "       [3.],\n",
       "       [4.],\n",
       "       [5.]])"
      ]
     },
     "execution_count": 5,
     "metadata": {},
     "output_type": "execute_result"
    }
   ],
   "source": [
    "x_data"
   ]
  },
  {
   "cell_type": "code",
   "execution_count": 6,
   "metadata": {},
   "outputs": [
    {
     "data": {
      "text/plain": [
       "array([0.94467277])"
      ]
     },
     "execution_count": 6,
     "metadata": {},
     "output_type": "execute_result"
    }
   ],
   "source": [
    "bias"
   ]
  },
  {
   "cell_type": "code",
   "execution_count": 7,
   "metadata": {},
   "outputs": [],
   "source": [
    "def func1(x, weight, bias):\n",
    "    return ((weight * x) + bias)"
   ]
  },
  {
   "cell_type": "code",
   "execution_count": 8,
   "metadata": {},
   "outputs": [
    {
     "data": {
      "text/plain": [
       "array([[1.90315765]])"
      ]
     },
     "execution_count": 8,
     "metadata": {},
     "output_type": "execute_result"
    }
   ],
   "source": [
    "#구현 예제\n",
    "func1(x_data[0], weight, bias)"
   ]
  },
  {
   "cell_type": "code",
   "execution_count": 9,
   "metadata": {},
   "outputs": [],
   "source": [
    "def loss_function(f, x, w, b, y):\n",
    "    result = 0\n",
    "    num_size = x.size\n",
    "    for i in range(num_size):\n",
    "        result = result + (f(x[i], w, b) - y[i]) ** 2\n",
    "    return result.sum() / num_size\n",
    "    "
   ]
  },
  {
   "cell_type": "code",
   "execution_count": 10,
   "metadata": {},
   "outputs": [
    {
     "data": {
      "text/plain": [
       "0.03580115413243445"
      ]
     },
     "execution_count": 10,
     "metadata": {},
     "output_type": "execute_result"
    }
   ],
   "source": [
    "loss_function(func1, x_data, weight, bias, y_data)"
   ]
  },
  {
   "cell_type": "code",
   "execution_count": 11,
   "metadata": {},
   "outputs": [],
   "source": [
    "def grad(f, x, w, b, y, grad_name):\n",
    "    h = 10e-10\n",
    "    if grad_name == 'weight':\n",
    "        return (loss_function(f, x, w + h, b, y) - loss_function(f, x, w - h, b, y)) / (2 * h)\n",
    "    else:\n",
    "        return (loss_function(f, x, w, b + h, y) - loss_function(f, x, w, b - h, y)) / (2 * h)"
   ]
  },
  {
   "cell_type": "code",
   "execution_count": 12,
   "metadata": {},
   "outputs": [
    {
     "data": {
      "text/plain": [
       "-1.2452958976505446"
      ]
     },
     "execution_count": 12,
     "metadata": {},
     "output_type": "execute_result"
    }
   ],
   "source": [
    "grad(func1, x_data, weight, bias, y_data, 'weight')"
   ]
  },
  {
   "cell_type": "code",
   "execution_count": 13,
   "metadata": {},
   "outputs": [],
   "source": [
    "# gradient update : w = w - learning_rate * dE/dw\n",
    "def grad_update(f, x, w, b, y, grad_name):\n",
    "    update = (0.01 * grad(f, x, w, b, y, grad_name)) \n",
    "    w = w - update\n",
    "    return w"
   ]
  },
  {
   "cell_type": "code",
   "execution_count": 14,
   "metadata": {},
   "outputs": [
    {
     "data": {
      "text/plain": [
       "array([[0.97093784]])"
      ]
     },
     "execution_count": 14,
     "metadata": {},
     "output_type": "execute_result"
    }
   ],
   "source": [
    "grad_update(func1, x_data, weight, bias, y_data, 'weight')"
   ]
  },
  {
   "cell_type": "markdown",
   "metadata": {},
   "source": [
    "* do 1000 times\n",
    "i = 0 \n",
    "while(1000):\n",
    "    weight_updated = grad_update(func1, x_data, weight, bias, y_data, 'weight')\n",
    "    bias_updated = grad_update(func1, x_data, weight, bias, y_data, 'bias')\n",
    "    if ((weight - weight_updated) ** 2 > 0.01):\n",
    "        weight = weight_updated\n",
    "        bias = bias_updated\n",
    "\n",
    "    else:\n",
    "        print(\"result = \", weight_updated[i], bias_updated[i])\n",
    "        break\n",
    "print(weight, bias)"
   ]
  },
  {
   "cell_type": "code",
   "execution_count": 15,
   "metadata": {},
   "outputs": [
    {
     "name": "stdout",
     "output_type": "stream",
     "text": [
      "result =  0.9999999999999998 0.9999999999999998\n"
     ]
    }
   ],
   "source": [
    "i = 0 \n",
    "weight_data = np.array([weight])\n",
    "bias_data = np.array([bias])\n",
    "while(True):\n",
    "    weight_data = np.append(weight_data, np.array([grad_update(func1, x_data, weight_data[i], bias_data[i], y_data, 'weight')]))\n",
    "    bias_data = np.append(bias_data, np.array([grad_update(func1, x_data, weight_data[i], bias_data[i], y_data, 'bias')]))\n",
    "    if (abs(weight_data[i] - weight_data[i + 1])  < 10e-200):\n",
    "        print(\"result = \", weight_data[i+1], bias_data[i+1])\n",
    "        break\n",
    "    else:\n",
    "        i = i + 1\n"
   ]
  }
 ],
 "metadata": {
  "kernelspec": {
   "display_name": "Python 3.10.4 64-bit ('3.10.4')",
   "language": "python",
   "name": "python3"
  },
  "language_info": {
   "codemirror_mode": {
    "name": "ipython",
    "version": 3
   },
   "file_extension": ".py",
   "mimetype": "text/x-python",
   "name": "python",
   "nbconvert_exporter": "python",
   "pygments_lexer": "ipython3",
   "version": "3.10.4"
  },
  "orig_nbformat": 4,
  "vscode": {
   "interpreter": {
    "hash": "fef1e57eb8c736bf4fafa58f254ce12dac410256e447717b93c71b32f77e2a6b"
   }
  }
 },
 "nbformat": 4,
 "nbformat_minor": 2
}

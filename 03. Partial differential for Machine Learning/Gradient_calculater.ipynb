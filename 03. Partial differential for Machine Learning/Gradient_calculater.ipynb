{
 "cells": [
  {
   "cell_type": "markdown",
   "metadata": {},
   "source": [
    "딥러닝을 위한 미분 구하기"
   ]
  },
  {
   "cell_type": "markdown",
   "metadata": {},
   "source": [
    "## 1. simple한 미분 계산기를 구현해보자\n",
    "- 입력 변수가 한개인 함수에 대해 미분값을 자동으로 구해주는 프로그램\n",
    "- f(x)의 Input: float 숫자 X\n",
    "- Output: 함수 f(x)에 대한 미분 결과\n",
    "- 조건 : f(x)는 x의 제곱을 리턴하는 함수\n",
    "\n",
    "- 미분함수의 input:f(x), 값\n",
    "- 미분 함수의 Output: 함수(x)에 대한 미분 결과"
   ]
  },
  {
   "cell_type": "code",
   "execution_count": 1,
   "metadata": {},
   "outputs": [],
   "source": [
    "def func1(x):\n",
    "    return x**2\n",
    "    "
   ]
  },
  {
   "cell_type": "code",
   "execution_count": 3,
   "metadata": {},
   "outputs": [],
   "source": [
    "def simple_diff(f, x):\n",
    "    result_diff = 0\n",
    "\n",
    "    h = 10e-5\n",
    "    dff = ((f(x + h) - f(x - h)) / (2 * h))\n",
    "    result_diff = dff\n",
    "\n",
    "    return result_diff"
   ]
  },
  {
   "cell_type": "code",
   "execution_count": 8,
   "metadata": {},
   "outputs": [
    {
     "data": {
      "text/plain": [
       "6.000000000012662"
      ]
     },
     "execution_count": 8,
     "metadata": {},
     "output_type": "execute_result"
    }
   ],
   "source": [
    "x = 3\n",
    "f = func1\n",
    "\n",
    "simple_diff(f, x)"
   ]
  },
  {
   "cell_type": "markdown",
   "metadata": {},
   "source": [
    "## 2. Gradient 계산기 구현하기\n",
    "\n",
    "- 입력변수가 한개 이상인 함수에 대해 미분값을 자동으로 구하는 프로그램\n",
    "- 미분함수 input: f(x, y, z ~ )\n",
    "- 미분함수 output: f(x, y, z ~ )에 대한 미분결과 백터\n",
    "- f(x) : 2x+3xy+y^3을 리턴하는 함수\n",
    "\n",
    "- x, y, z = X[0], X[1], X[2]"
   ]
  },
  {
   "cell_type": "code",
   "execution_count": 13,
   "metadata": {},
   "outputs": [],
   "source": [
    "def func2(x, y):\n",
    "    return 2 * x + 3 * x * y + y ** 3"
   ]
  },
  {
   "cell_type": "code",
   "execution_count": 16,
   "metadata": {},
   "outputs": [],
   "source": [
    "def simple_diff(f, x, y):\n",
    "    result_diff = 0\n",
    "\n",
    "    h = 10e-5\n",
    "    x_dff = ((f(x + h, y) - f(x - h, y)) / (2 * h))\n",
    "    y_dff = ((f(x, y + h) - f(x, y - h)) / (2 * h)) \n",
    "    result_diff = x_dff + y_dff\n",
    "\n",
    "    return result_diff"
   ]
  },
  {
   "cell_type": "code",
   "execution_count": 17,
   "metadata": {},
   "outputs": [
    {
     "data": {
      "text/plain": [
       "71.00000001003082"
      ]
     },
     "execution_count": 17,
     "metadata": {},
     "output_type": "execute_result"
    }
   ],
   "source": [
    "x = 3\n",
    "y = 4\n",
    "f = func2\n",
    "\n",
    "simple_diff(f, x, y)"
   ]
  },
  {
   "cell_type": "code",
   "execution_count": 63,
   "metadata": {},
   "outputs": [],
   "source": [
    "def func3(x):\n",
    "    result = 0.\n",
    "    k = [1, 1, 1]\n",
    "    for idx, num in enumerate(k):\n",
    "        result = result + num * (x[idx] ** idx)\n",
    "        print(num, x[idx], idx)\n",
    "    print(result)\n",
    "    return  result"
   ]
  },
  {
   "cell_type": "code",
   "execution_count": 66,
   "metadata": {},
   "outputs": [],
   "source": [
    "def simple_diff(f, x):\n",
    "    result_diff = 0\n",
    "\n",
    "    h = 10e-5\n",
    "    sum_dff = 0\n",
    "    for i in range(len(x)):\n",
    "        temp_value =  x[i]\n",
    "        x[i] = temp_value + h\n",
    "        dff_pl = f(x)\n",
    "        x[i] = temp_value + h\n",
    "        dff_mi = f(x)\n",
    "        sum_dff = sum_dff + ((dff_pl - dff_mi) / (2 * h))\n",
    "        x[i] = temp_value\n",
    "        print(i, \"번쨰항의 \", sum_dff)\n",
    "\n",
    "    return sum_dff"
   ]
  },
  {
   "cell_type": "code",
   "execution_count": 67,
   "metadata": {},
   "outputs": [
    {
     "name": "stdout",
     "output_type": "stream",
     "text": [
      "1 1.0001 0\n",
      "1 2.0 1\n",
      "1 3.0 2\n",
      "12.0\n",
      "1 1.0001 0\n",
      "1 2.0 1\n",
      "1 3.0 2\n",
      "12.0\n",
      "0 번쨰항의  0.0\n",
      "1 1.0 0\n",
      "1 2.0001 1\n",
      "1 3.0 2\n",
      "12.0001\n",
      "1 1.0 0\n",
      "1 2.0001 1\n",
      "1 3.0 2\n",
      "12.0001\n",
      "1 번쨰항의  0.0\n",
      "1 1.0 0\n",
      "1 2.0 1\n",
      "1 3.0001 2\n",
      "12.000600010000001\n",
      "1 1.0 0\n",
      "1 2.0 1\n",
      "1 3.0001 2\n",
      "12.000600010000001\n",
      "2 번쨰항의  0.0\n"
     ]
    },
    {
     "data": {
      "text/plain": [
       "0.0"
      ]
     },
     "execution_count": 67,
     "metadata": {},
     "output_type": "execute_result"
    }
   ],
   "source": [
    "x = [1., 2., 3.]\n",
    "\n",
    "f = func3\n",
    "\n",
    "simple_diff(f, x)"
   ]
  }
 ],
 "metadata": {
  "kernelspec": {
   "display_name": "Python 3.10.4 64-bit ('3.10.4')",
   "language": "python",
   "name": "python3"
  },
  "language_info": {
   "codemirror_mode": {
    "name": "ipython",
    "version": 3
   },
   "file_extension": ".py",
   "mimetype": "text/x-python",
   "name": "python",
   "nbconvert_exporter": "python",
   "pygments_lexer": "ipython3",
   "version": "3.10.4"
  },
  "orig_nbformat": 4,
  "vscode": {
   "interpreter": {
    "hash": "fef1e57eb8c736bf4fafa58f254ce12dac410256e447717b93c71b32f77e2a6b"
   }
  }
 },
 "nbformat": 4,
 "nbformat_minor": 2
}
